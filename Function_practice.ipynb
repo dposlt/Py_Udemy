{
 "cells": [
  {
   "cell_type": "code",
   "execution_count": 7,
   "metadata": {},
   "outputs": [
    {
     "name": "stdout",
     "output_type": "stream",
     "text": [
      "--> 2\n",
      "--> 5\n",
      "--> 2\n"
     ]
    }
   ],
   "source": [
    "# Lesser of two evens: Write a function that return the lesser of two given numbers if both numbers are even, but returns the grater if one or both numbers are odd\n",
    "\n",
    "def lesser_of_two_evens(a,b):\n",
    "    if a %2 == 0 and b %2 == 0:\n",
    "        \n",
    "        result = min(a,b)\n",
    "        print('--> {}'.format(result))\n",
    "        '''\n",
    "        if a < b:\n",
    "            print('--> {}'.format(a))\n",
    "        elif b < a:\n",
    "            print('--> {}'.format(b))\n",
    "        else:\n",
    "            print('--> {} and {} are equal'.format(a,b))'\n",
    "        '''\n",
    "    else:\n",
    "        \n",
    "        result = max(a,b)\n",
    "        print('--> {}'.format(result))\n",
    "        '''\n",
    "        if a > b:\n",
    "            print('--> {}'.format(a))\n",
    "        elif b > a:\n",
    "            print('--> {}'.format(b))\n",
    "        else:\n",
    "            print('--> {} and {} are equal'.format(a,b))\n",
    "       '''\n",
    "lesser_of_two_evens(2,4)\n",
    "lesser_of_two_evens(2,5)\n"
   ]
  },
  {
   "cell_type": "code",
   "execution_count": 33,
   "metadata": {},
   "outputs": [
    {
     "data": {
      "text/plain": [
       "False"
      ]
     },
     "execution_count": 33,
     "metadata": {},
     "output_type": "execute_result"
    }
   ],
   "source": [
    "# Animal crackers: Write a function takes a two-word string and returns True if both words begin with same letter\n",
    "\n",
    "def animal_crackers(text):\n",
    "    \n",
    "    # do two words\n",
    "    splitText = text.split()\n",
    "    \n",
    "    firstFirst = splitText[0][0]\n",
    "    firstSecond = splitText[1][0]\n",
    "    return firstFirst.upper() == firstSecond.upper()\n",
    "    \n",
    "    \n",
    "animal_crackers('Levelheaded llama')\n",
    "\n",
    "animal_crackers('Crazy Kangaroo')"
   ]
  },
  {
   "cell_type": "code",
   "execution_count": null,
   "metadata": {},
   "outputs": [],
   "source": []
  },
  {
   "cell_type": "code",
   "execution_count": null,
   "metadata": {},
   "outputs": [],
   "source": []
  }
 ],
 "metadata": {
  "kernelspec": {
   "display_name": "Python 3",
   "language": "python",
   "name": "python3"
  },
  "language_info": {
   "codemirror_mode": {
    "name": "ipython",
    "version": 3
   },
   "file_extension": ".py",
   "mimetype": "text/x-python",
   "name": "python",
   "nbconvert_exporter": "python",
   "pygments_lexer": "ipython3",
   "version": "3.7.6"
  }
 },
 "nbformat": 4,
 "nbformat_minor": 4
}
