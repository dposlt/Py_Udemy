{
 "cells": [
  {
   "cell_type": "code",
   "execution_count": 5,
   "metadata": {},
   "outputs": [
    {
     "name": "stdout",
     "output_type": "stream",
     "text": [
      "--> 2\n",
      "--> 5\n"
     ]
    }
   ],
   "source": [
    "# Lesser of two evens: Write a function that return the lesser of two given numbers if both numbers are even, but returns the grater if one or both numbers are odd\n",
    "\n",
    "def lesser_of_two_evens(a,b):\n",
    "    if a %2 == 0 and b %2 == 0:\n",
    "        \n",
    "        result = min(a,b)\n",
    "        '''\n",
    "        if a < b:\n",
    "            print('--> {}'.format(a))\n",
    "        elif b < a:\n",
    "            print('--> {}'.format(b))\n",
    "        else:\n",
    "            \n",
    "        '''\n",
    "    else:\n",
    "        \n",
    "        result = max(a,b)\n",
    "        if a > b:\n",
    "            print('--> {}'.format(a))\n",
    "        elif b > a:\n",
    "            print('--> {}'.format(b))\n",
    "        else:\n",
    "            print('--> {} and {} are equal'.format(a,b))\n",
    "       \n",
    "lesser_of_two_evens(2,4)\n",
    "lesser_of_two_evens(2,5)"
   ]
  },
  {
   "cell_type": "code",
   "execution_count": null,
   "metadata": {},
   "outputs": [],
   "source": []
  }
 ],
 "metadata": {
  "kernelspec": {
   "display_name": "Python 3",
   "language": "python",
   "name": "python3"
  },
  "language_info": {
   "codemirror_mode": {
    "name": "ipython",
    "version": 3
   },
   "file_extension": ".py",
   "mimetype": "text/x-python",
   "name": "python",
   "nbconvert_exporter": "python",
   "pygments_lexer": "ipython3",
   "version": "3.7.6"
  }
 },
 "nbformat": 4,
 "nbformat_minor": 4
}
