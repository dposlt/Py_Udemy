{
 "cells": [
  {
   "cell_type": "code",
   "execution_count": 7,
   "metadata": {},
   "outputs": [
    {
     "name": "stdout",
     "output_type": "stream",
     "text": [
      "--> 2\n",
      "--> 5\n",
      "--> 2\n"
     ]
    }
   ],
   "source": [
    "# Lesser of two evens: Write a function that return the lesser of two given numbers if both numbers are even, but returns the grater if one or both numbers are odd\n",
    "\n",
    "def lesser_of_two_evens(a,b):\n",
    "    if a %2 == 0 and b %2 == 0:\n",
    "        \n",
    "        result = min(a,b)\n",
    "        print('--> {}'.format(result))\n",
    "        '''\n",
    "        if a < b:\n",
    "            print('--> {}'.format(a))\n",
    "        elif b < a:\n",
    "            print('--> {}'.format(b))\n",
    "        else:\n",
    "            print('--> {} and {} are equal'.format(a,b))'\n",
    "        '''\n",
    "    else:\n",
    "        \n",
    "        result = max(a,b)\n",
    "        print('--> {}'.format(result))\n",
    "        '''\n",
    "        if a > b:\n",
    "            print('--> {}'.format(a))\n",
    "        elif b > a:\n",
    "            print('--> {}'.format(b))\n",
    "        else:\n",
    "            print('--> {} and {} are equal'.format(a,b))\n",
    "       '''\n",
    "lesser_of_two_evens(2,4)\n",
    "lesser_of_two_evens(2,5)\n"
   ]
  },
  {
   "cell_type": "code",
   "execution_count": 35,
   "metadata": {},
   "outputs": [
    {
     "data": {
      "text/plain": [
       "True"
      ]
     },
     "execution_count": 35,
     "metadata": {},
     "output_type": "execute_result"
    }
   ],
   "source": [
    "# Animal crackers: Write a function takes a two-word string and returns True if both words begin with same letter\n",
    "\n",
    "def animal_crackers(text):\n",
    "    \n",
    "    # do two words\n",
    "    splitText = text.lower().split()\n",
    "    \n",
    "    firstFirst = splitText[0][0]\n",
    "    firstSecond = splitText[1][0]\n",
    "    return firstFirst == firstSecond\n",
    "    \n",
    "    \n",
    "animal_crackers('Levelheaded llama')\n",
    "\n",
    "#animal_crackers('Crazy Kangaroo')"
   ]
  },
  {
   "cell_type": "code",
   "execution_count": 12,
   "metadata": {},
   "outputs": [
    {
     "data": {
      "text/plain": [
       "True"
      ]
     },
     "execution_count": 12,
     "metadata": {},
     "output_type": "execute_result"
    }
   ],
   "source": [
    "# Makes Twenty: Given two integers, returtn True if the sum of the integers is 20 or if one of the integers is 20. If not, return False\n",
    "\n",
    "def makes_twenty(n1,n2):\n",
    "    result = sum((n1,n2))\n",
    "    # one method\n",
    "    '''\n",
    "    \n",
    "    \n",
    "    if n1 == 20 or n2 == 20 or result == 20:\n",
    "        return True\n",
    "    else:\n",
    "        return False\n",
    "    '''\n",
    "    \n",
    "    # second method\n",
    "    return result == 20 or n1 == 20 or n2 == 20\n",
    "\n",
    "makes_twenty(10,20)"
   ]
  },
  {
   "cell_type": "code",
   "execution_count": 21,
   "metadata": {},
   "outputs": [
    {
     "data": {
      "text/plain": [
       "'MacDdonald'"
      ]
     },
     "execution_count": 21,
     "metadata": {},
     "output_type": "execute_result"
    }
   ],
   "source": [
    "# Old MacDonald: write a function that capitalizes the first and fourth letters of a name\n",
    "\n",
    "def old_mcdonald(name):\n",
    "    \n",
    "    #first letter\n",
    "    name = name.capitalize()\n",
    "    \n",
    "    #four letter\n",
    "    four = name[3].capitalize()\n",
    "    \n",
    "    #return\n",
    "    return name[:3] + four + name[3:]\n",
    "\n",
    "old_mcdonald('macdonald')"
   ]
  },
  {
   "cell_type": "code",
   "execution_count": 36,
   "metadata": {},
   "outputs": [
    {
     "data": {
      "text/plain": [
       "'home am I'"
      ]
     },
     "execution_count": 36,
     "metadata": {},
     "output_type": "execute_result"
    }
   ],
   "source": [
    "# Master Yoda: Given a sentence, return a sentence with the words reversed\n",
    "\n",
    "def master_yoda(text):\n",
    "    \n",
    "    text = text.split()\n",
    "    reversed_word = text[::-1]\n",
    "    return ' '.join(reversed_word)\n",
    "\n",
    "master_yoda('I am home')"
   ]
  },
  {
   "cell_type": "code",
   "execution_count": null,
   "metadata": {},
   "outputs": [],
   "source": []
  }
 ],
 "metadata": {
  "kernelspec": {
   "display_name": "Python 3",
   "language": "python",
   "name": "python3"
  },
  "language_info": {
   "codemirror_mode": {
    "name": "ipython",
    "version": 3
   },
   "file_extension": ".py",
   "mimetype": "text/x-python",
   "name": "python",
   "nbconvert_exporter": "python",
   "pygments_lexer": "ipython3",
   "version": "3.7.6"
  }
 },
 "nbformat": 4,
 "nbformat_minor": 4
}
